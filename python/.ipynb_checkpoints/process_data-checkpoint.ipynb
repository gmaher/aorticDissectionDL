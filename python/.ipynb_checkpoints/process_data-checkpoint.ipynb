{
 "cells": [
  {
   "cell_type": "code",
   "execution_count": 1,
   "metadata": {
    "collapsed": true
   },
   "outputs": [],
   "source": [
    "import numpy as np\n",
    "import matplotlib\n",
    "import os\n",
    "import SimpleITK as sitk\n",
    "import util\n",
    "%matplotlib inline\n",
    "matplotlib.rcParams.update({'font.size': 24})\n",
    "import matplotlib.pyplot as plt\n",
    "plt.style.use('ggplot')"
   ]
  },
  {
   "cell_type": "code",
   "execution_count": 2,
   "metadata": {},
   "outputs": [
    {
     "name": "stdout",
     "output_type": "stream",
     "text": [
      "/media/gabriel/Data/projects/aorticDissectionDL/python/definitions.pyc\n",
      "/media/gabriel/Data/projects/aorticDissectionDL/data\n",
      "['1', '3', '5', '7', '8', '9', '11', '14']\n"
     ]
    }
   ],
   "source": [
    "from definitions import Definitions\n",
    "\n",
    "config = Definitions()\n",
    "\n",
    "print config.src_dir\n",
    "print config.data_dir\n",
    "print config.images"
   ]
  },
  {
   "cell_type": "code",
   "execution_count": 3,
   "metadata": {},
   "outputs": [
    {
     "name": "stdout",
     "output_type": "stream",
     "text": [
      "('/media/gabriel/Data/projects/aorticDissectionDL/data/Aorta1/Source/1/1/33880156/33880826', '/media/gabriel/Data/projects/aorticDissectionDL/data/Aorta1/Segmentation/1/1/33880156/76813908')\n"
     ]
    }
   ],
   "source": [
    "print util.get_image_path(config.data_dir,config.images[0])"
   ]
  },
  {
   "cell_type": "code",
   "execution_count": null,
   "metadata": {
    "collapsed": true
   },
   "outputs": [],
   "source": [
    "image,label = util.get_image_and_label(config.data_dir,config.images[0])\n",
    "print \"Image: shape {}, max {}, min {}\".format(image.shape,np.amax(image),\n",
    "                                               np.amin(image))\n",
    "print \"Image: shape {}, max {}, min {}\".format(label.shape,np.amax(label),\n",
    "                                               np.amin(label))"
   ]
  },
  {
   "cell_type": "code",
   "execution_count": null,
   "metadata": {
    "collapsed": true
   },
   "outputs": [],
   "source": []
  }
 ],
 "metadata": {
  "kernelspec": {
   "display_name": "Python [conda root]",
   "language": "python",
   "name": "conda-root-py"
  },
  "language_info": {
   "codemirror_mode": {
    "name": "ipython",
    "version": 2
   },
   "file_extension": ".py",
   "mimetype": "text/x-python",
   "name": "python",
   "nbconvert_exporter": "python",
   "pygments_lexer": "ipython2",
   "version": "2.7.13"
  }
 },
 "nbformat": 4,
 "nbformat_minor": 2
}
